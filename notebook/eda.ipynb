{
 "cells": [
  {
   "cell_type": "code",
   "execution_count": 169,
   "id": "02bdda07",
   "metadata": {},
   "outputs": [],
   "source": [
    "# ライブラリのインポート\n",
    "import pandas as pd\n",
    "import numpy as np\n",
    "import matplotlib.pyplot as plt\n",
    "import seaborn as sns\n",
    "%matplotlib inline\n",
    "\n",
    "import scipy as sp\n"
   ]
  },
  {
   "cell_type": "code",
   "execution_count": 170,
   "id": "858bc3fc",
   "metadata": {},
   "outputs": [],
   "source": [
    "# データの読み込み\n",
    "train = pd.read_csv('../data/train.tsv', sep='\\t')"
   ]
  },
  {
   "cell_type": "code",
   "execution_count": 171,
   "id": "5fa69bc1",
   "metadata": {},
   "outputs": [
    {
     "data": {
      "text/html": [
       "<div>\n",
       "<style scoped>\n",
       "    .dataframe tbody tr th:only-of-type {\n",
       "        vertical-align: middle;\n",
       "    }\n",
       "\n",
       "    .dataframe tbody tr th {\n",
       "        vertical-align: top;\n",
       "    }\n",
       "\n",
       "    .dataframe thead th {\n",
       "        text-align: right;\n",
       "    }\n",
       "</style>\n",
       "<table border=\"1\" class=\"dataframe\">\n",
       "  <thead>\n",
       "    <tr style=\"text-align: right;\">\n",
       "      <th></th>\n",
       "      <th>id</th>\n",
       "      <th>class</th>\n",
       "      <th>buying</th>\n",
       "      <th>maint</th>\n",
       "      <th>doors</th>\n",
       "      <th>persons</th>\n",
       "      <th>lug_boot</th>\n",
       "      <th>safety</th>\n",
       "    </tr>\n",
       "  </thead>\n",
       "  <tbody>\n",
       "    <tr>\n",
       "      <th>0</th>\n",
       "      <td>0</td>\n",
       "      <td>unacc</td>\n",
       "      <td>low</td>\n",
       "      <td>med</td>\n",
       "      <td>3</td>\n",
       "      <td>2</td>\n",
       "      <td>small</td>\n",
       "      <td>low</td>\n",
       "    </tr>\n",
       "    <tr>\n",
       "      <th>1</th>\n",
       "      <td>3</td>\n",
       "      <td>acc</td>\n",
       "      <td>low</td>\n",
       "      <td>high</td>\n",
       "      <td>3</td>\n",
       "      <td>more</td>\n",
       "      <td>small</td>\n",
       "      <td>med</td>\n",
       "    </tr>\n",
       "    <tr>\n",
       "      <th>2</th>\n",
       "      <td>7</td>\n",
       "      <td>unacc</td>\n",
       "      <td>vhigh</td>\n",
       "      <td>high</td>\n",
       "      <td>5more</td>\n",
       "      <td>2</td>\n",
       "      <td>small</td>\n",
       "      <td>med</td>\n",
       "    </tr>\n",
       "    <tr>\n",
       "      <th>3</th>\n",
       "      <td>11</td>\n",
       "      <td>acc</td>\n",
       "      <td>high</td>\n",
       "      <td>high</td>\n",
       "      <td>3</td>\n",
       "      <td>more</td>\n",
       "      <td>big</td>\n",
       "      <td>med</td>\n",
       "    </tr>\n",
       "    <tr>\n",
       "      <th>4</th>\n",
       "      <td>12</td>\n",
       "      <td>unacc</td>\n",
       "      <td>high</td>\n",
       "      <td>high</td>\n",
       "      <td>3</td>\n",
       "      <td>2</td>\n",
       "      <td>med</td>\n",
       "      <td>high</td>\n",
       "    </tr>\n",
       "  </tbody>\n",
       "</table>\n",
       "</div>"
      ],
      "text/plain": [
       "   id  class buying maint  doors persons lug_boot safety\n",
       "0   0  unacc    low   med      3       2    small    low\n",
       "1   3    acc    low  high      3    more    small    med\n",
       "2   7  unacc  vhigh  high  5more       2    small    med\n",
       "3  11    acc   high  high      3    more      big    med\n",
       "4  12  unacc   high  high      3       2      med   high"
      ]
     },
     "execution_count": 171,
     "metadata": {},
     "output_type": "execute_result"
    }
   ],
   "source": [
    "train.head()"
   ]
  },
  {
   "cell_type": "code",
   "execution_count": 172,
   "id": "e4dacd2c",
   "metadata": {},
   "outputs": [
    {
     "name": "stdout",
     "output_type": "stream",
     "text": [
      "==========================\n",
      "カラム名: class\n",
      "unacc    591\n",
      "acc      206\n",
      "good      34\n",
      "vgood     33\n",
      "Name: class, dtype: int64\n",
      "==========================\n",
      "カラム名: buying\n",
      "low      226\n",
      "med      219\n",
      "high     218\n",
      "vhigh    201\n",
      "Name: buying, dtype: int64\n",
      "==========================\n",
      "カラム名: maint\n",
      "high     227\n",
      "vhigh    225\n",
      "low      219\n",
      "med      193\n",
      "Name: maint, dtype: int64\n",
      "==========================\n",
      "カラム名: doors\n",
      "3        238\n",
      "4        220\n",
      "5more    208\n",
      "2        198\n",
      "Name: doors, dtype: int64\n",
      "==========================\n",
      "カラム名: persons\n",
      "more    299\n",
      "2       284\n",
      "4       281\n",
      "Name: persons, dtype: int64\n",
      "==========================\n",
      "カラム名: lug_boot\n",
      "med      299\n",
      "big      285\n",
      "small    280\n",
      "Name: lug_boot, dtype: int64\n",
      "==========================\n",
      "カラム名: safety\n",
      "high    291\n",
      "med     289\n",
      "low     284\n",
      "Name: safety, dtype: int64\n"
     ]
    }
   ],
   "source": [
    "# ユニークな値を表示\n",
    "for column in train.columns:\n",
    "    if column == 'id':\n",
    "        continue\n",
    "    print('==========================')\n",
    "    print(f'カラム名: {column}')\n",
    "    print(train[column].value_counts())"
   ]
  },
  {
   "cell_type": "markdown",
   "id": "e0b2a821",
   "metadata": {},
   "source": [
    "# データ説明"
   ]
  },
  {
   "cell_type": "markdown",
   "id": "59c6635a",
   "metadata": {},
   "source": [
    "class: 評価値（unacc, acc, good, vgood）<br>\n",
    "buying: 車の売値（vhigh, high, med, low）<br>\n",
    "maint: 整備代（vhigh, high, med, low）<br>\n",
    "doors: ドアの数（2, 3, 4, 5, more.）<br>\n",
    "persons: 定員（2, 4, more.）<br>\n",
    "lug_boot: トランクの大きさ（small, med, big.）<br>\n",
    "safety: 安全性（low, med, high）<br>"
   ]
  },
  {
   "cell_type": "markdown",
   "id": "d29fe65a",
   "metadata": {},
   "source": [
    "# 関数の定義"
   ]
  },
  {
   "cell_type": "code",
   "execution_count": 173,
   "id": "bb3173e8",
   "metadata": {},
   "outputs": [],
   "source": [
    "# クロス集計表を作成する関数\n",
    "def make_cross(x, y, x_unique_elem, y_unique_elem):\n",
    "    tb = pd.crosstab(x, y)\n",
    "    tb = tb.reindex(index=x_unique_elem, columns=y_unique_elem)\n",
    "    return tb"
   ]
  },
  {
   "cell_type": "markdown",
   "id": "a91d6d7e",
   "metadata": {},
   "source": [
    "# 売値（buying）と評価値"
   ]
  },
  {
   "cell_type": "code",
   "execution_count": 174,
   "id": "8f37d369",
   "metadata": {},
   "outputs": [
    {
     "data": {
      "text/html": [
       "<div>\n",
       "<style scoped>\n",
       "    .dataframe tbody tr th:only-of-type {\n",
       "        vertical-align: middle;\n",
       "    }\n",
       "\n",
       "    .dataframe tbody tr th {\n",
       "        vertical-align: top;\n",
       "    }\n",
       "\n",
       "    .dataframe thead th {\n",
       "        text-align: right;\n",
       "    }\n",
       "</style>\n",
       "<table border=\"1\" class=\"dataframe\">\n",
       "  <thead>\n",
       "    <tr style=\"text-align: right;\">\n",
       "      <th>class</th>\n",
       "      <th>unacc</th>\n",
       "      <th>acc</th>\n",
       "      <th>good</th>\n",
       "      <th>vgood</th>\n",
       "    </tr>\n",
       "    <tr>\n",
       "      <th>buying</th>\n",
       "      <th></th>\n",
       "      <th></th>\n",
       "      <th></th>\n",
       "      <th></th>\n",
       "    </tr>\n",
       "  </thead>\n",
       "  <tbody>\n",
       "    <tr>\n",
       "      <th>low</th>\n",
       "      <td>128</td>\n",
       "      <td>53</td>\n",
       "      <td>24</td>\n",
       "      <td>21</td>\n",
       "    </tr>\n",
       "    <tr>\n",
       "      <th>med</th>\n",
       "      <td>134</td>\n",
       "      <td>63</td>\n",
       "      <td>10</td>\n",
       "      <td>12</td>\n",
       "    </tr>\n",
       "    <tr>\n",
       "      <th>high</th>\n",
       "      <td>163</td>\n",
       "      <td>55</td>\n",
       "      <td>0</td>\n",
       "      <td>0</td>\n",
       "    </tr>\n",
       "    <tr>\n",
       "      <th>vhigh</th>\n",
       "      <td>166</td>\n",
       "      <td>35</td>\n",
       "      <td>0</td>\n",
       "      <td>0</td>\n",
       "    </tr>\n",
       "  </tbody>\n",
       "</table>\n",
       "</div>"
      ],
      "text/plain": [
       "class   unacc  acc  good  vgood\n",
       "buying                         \n",
       "low       128   53    24     21\n",
       "med       134   63    10     12\n",
       "high      163   55     0      0\n",
       "vhigh     166   35     0      0"
      ]
     },
     "execution_count": 174,
     "metadata": {},
     "output_type": "execute_result"
    }
   ],
   "source": [
    "x_unique_elem=['low','med','high','vhigh']\n",
    "y_unique_elem=['unacc','acc','good','vgood']\n",
    "\n",
    "tb_class_buying=make_cross(train['buying'], train['class'], x_unique_elem, y_unique_elem)\n",
    "tb_class_buying"
   ]
  },
  {
   "cell_type": "code",
   "execution_count": 175,
   "id": "dee9a97f",
   "metadata": {},
   "outputs": [
    {
     "data": {
      "text/plain": [
       "<AxesSubplot:xlabel='buying'>"
      ]
     },
     "execution_count": 175,
     "metadata": {},
     "output_type": "execute_result"
    },
    {
     "data": {
      "image/png": "[encoded data removed]",
      "text/plain": [
       "<Figure size 432x288 with 1 Axes>"
      ]
     },
     "metadata": {
      "needs_background": "light"
     },
     "output_type": "display_data"
    }
   ],
   "source": [
    "tb_class_buying.plot.bar()"
   ]
  },
  {
   "cell_type": "code",
   "execution_count": 176,
   "id": "2cdf59cf",
   "metadata": {},
   "outputs": [
    {
     "name": "stdout",
     "output_type": "stream",
     "text": [
      "カイ二乗値: 97.02246234028553\n",
      "p値: 6.287080004439039e-17\n",
      "自由度: 9\n"
     ]
    }
   ],
   "source": [
    "# χ二乗検定\n",
    "x2, p, dof, ex = sp.stats.chi2_contingency(tb_class_buying)\n",
    "\n",
    "print(f'カイ二乗値: {x2}')\n",
    "print(f'p値: {p}')\n",
    "print(f'自由度: {dof}')"
   ]
  },
  {
   "cell_type": "markdown",
   "id": "03eb5430",
   "metadata": {},
   "source": [
    "### 売値が高いほど評価値は高い"
   ]
  },
  {
   "cell_type": "markdown",
   "id": "e51a5bdd",
   "metadata": {},
   "source": [
    "# 整備代（maint）と評価値"
   ]
  },
  {
   "cell_type": "code",
   "execution_count": 177,
   "id": "a60eb4ca",
   "metadata": {},
   "outputs": [
    {
     "data": {
      "text/html": [
       "<div>\n",
       "<style scoped>\n",
       "    .dataframe tbody tr th:only-of-type {\n",
       "        vertical-align: middle;\n",
       "    }\n",
       "\n",
       "    .dataframe tbody tr th {\n",
       "        vertical-align: top;\n",
       "    }\n",
       "\n",
       "    .dataframe thead th {\n",
       "        text-align: right;\n",
       "    }\n",
       "</style>\n",
       "<table border=\"1\" class=\"dataframe\">\n",
       "  <thead>\n",
       "    <tr style=\"text-align: right;\">\n",
       "      <th>class</th>\n",
       "      <th>unacc</th>\n",
       "      <th>acc</th>\n",
       "      <th>good</th>\n",
       "      <th>vgood</th>\n",
       "    </tr>\n",
       "    <tr>\n",
       "      <th>maint</th>\n",
       "      <th></th>\n",
       "      <th></th>\n",
       "      <th></th>\n",
       "      <th></th>\n",
       "    </tr>\n",
       "  </thead>\n",
       "  <tbody>\n",
       "    <tr>\n",
       "      <th>low</th>\n",
       "      <td>131</td>\n",
       "      <td>52</td>\n",
       "      <td>23</td>\n",
       "      <td>13</td>\n",
       "    </tr>\n",
       "    <tr>\n",
       "      <th>med</th>\n",
       "      <td>115</td>\n",
       "      <td>53</td>\n",
       "      <td>11</td>\n",
       "      <td>14</td>\n",
       "    </tr>\n",
       "    <tr>\n",
       "      <th>high</th>\n",
       "      <td>165</td>\n",
       "      <td>56</td>\n",
       "      <td>0</td>\n",
       "      <td>6</td>\n",
       "    </tr>\n",
       "    <tr>\n",
       "      <th>vhigh</th>\n",
       "      <td>180</td>\n",
       "      <td>45</td>\n",
       "      <td>0</td>\n",
       "      <td>0</td>\n",
       "    </tr>\n",
       "  </tbody>\n",
       "</table>\n",
       "</div>"
      ],
      "text/plain": [
       "class  unacc  acc  good  vgood\n",
       "maint                         \n",
       "low      131   52    23     13\n",
       "med      115   53    11     14\n",
       "high     165   56     0      6\n",
       "vhigh    180   45     0      0"
      ]
     },
     "execution_count": 177,
     "metadata": {},
     "output_type": "execute_result"
    }
   ],
   "source": [
    "x_unique_elem=['low','med','high','vhigh']\n",
    "y_unique_elem=['unacc','acc','good','vgood']\n",
    "\n",
    "tb_class_maint=make_cross(train['maint'], train['class'], x_unique_elem, y_unique_elem)\n",
    "tb_class_maint"
   ]
  },
  {
   "cell_type": "code",
   "execution_count": 178,
   "id": "edc3424f",
   "metadata": {},
   "outputs": [
    {
     "data": {
      "text/plain": [
       "<AxesSubplot:xlabel='maint'>"
      ]
     },
     "execution_count": 178,
     "metadata": {},
     "output_type": "execute_result"
    },
    {
     "data": {
      "image/png": "[encoded data removed]",
      "text/plain": [
       "<Figure size 432x288 with 1 Axes>"
      ]
     },
     "metadata": {
      "needs_background": "light"
     },
     "output_type": "display_data"
    }
   ],
   "source": [
    "tb_class_maint.plot.bar()"
   ]
  },
  {
   "cell_type": "code",
   "execution_count": 179,
   "id": "c88a5224",
   "metadata": {},
   "outputs": [
    {
     "name": "stdout",
     "output_type": "stream",
     "text": [
      "カイ二乗値: 73.36569222532016\n",
      "p値: 3.3195021898911677e-12\n",
      "自由度: 9\n"
     ]
    }
   ],
   "source": [
    "# χ二乗検定\n",
    "x2, p, dof, ex = sp.stats.chi2_contingency(tb_class_maint)\n",
    "\n",
    "print(f'カイ二乗値: {x2}')\n",
    "print(f'p値: {p}')\n",
    "print(f'自由度: {dof}')"
   ]
  },
  {
   "cell_type": "markdown",
   "id": "4dbc46b3",
   "metadata": {},
   "source": [
    "### 整備代が高いほど評価値は高い"
   ]
  },
  {
   "cell_type": "markdown",
   "id": "1f649d54",
   "metadata": {},
   "source": [
    "# ドアの数と評価値"
   ]
  },
  {
   "cell_type": "code",
   "execution_count": 180,
   "id": "e7e112bd",
   "metadata": {},
   "outputs": [
    {
     "data": {
      "text/html": [
       "<div>\n",
       "<style scoped>\n",
       "    .dataframe tbody tr th:only-of-type {\n",
       "        vertical-align: middle;\n",
       "    }\n",
       "\n",
       "    .dataframe tbody tr th {\n",
       "        vertical-align: top;\n",
       "    }\n",
       "\n",
       "    .dataframe thead th {\n",
       "        text-align: right;\n",
       "    }\n",
       "</style>\n",
       "<table border=\"1\" class=\"dataframe\">\n",
       "  <thead>\n",
       "    <tr style=\"text-align: right;\">\n",
       "      <th>class</th>\n",
       "      <th>unacc</th>\n",
       "      <th>acc</th>\n",
       "      <th>good</th>\n",
       "      <th>vgood</th>\n",
       "    </tr>\n",
       "    <tr>\n",
       "      <th>doors</th>\n",
       "      <th></th>\n",
       "      <th></th>\n",
       "      <th></th>\n",
       "      <th></th>\n",
       "    </tr>\n",
       "  </thead>\n",
       "  <tbody>\n",
       "    <tr>\n",
       "      <th>2</th>\n",
       "      <td>143</td>\n",
       "      <td>43</td>\n",
       "      <td>8</td>\n",
       "      <td>4</td>\n",
       "    </tr>\n",
       "    <tr>\n",
       "      <th>3</th>\n",
       "      <td>160</td>\n",
       "      <td>58</td>\n",
       "      <td>10</td>\n",
       "      <td>10</td>\n",
       "    </tr>\n",
       "    <tr>\n",
       "      <th>4</th>\n",
       "      <td>146</td>\n",
       "      <td>53</td>\n",
       "      <td>10</td>\n",
       "      <td>11</td>\n",
       "    </tr>\n",
       "    <tr>\n",
       "      <th>5more</th>\n",
       "      <td>142</td>\n",
       "      <td>52</td>\n",
       "      <td>6</td>\n",
       "      <td>8</td>\n",
       "    </tr>\n",
       "  </tbody>\n",
       "</table>\n",
       "</div>"
      ],
      "text/plain": [
       "class  unacc  acc  good  vgood\n",
       "doors                         \n",
       "2        143   43     8      4\n",
       "3        160   58    10     10\n",
       "4        146   53    10     11\n",
       "5more    142   52     6      8"
      ]
     },
     "execution_count": 180,
     "metadata": {},
     "output_type": "execute_result"
    }
   ],
   "source": [
    "x_unique_elem=['2','3','4','5more']\n",
    "y_unique_elem=['unacc','acc','good','vgood']\n",
    "\n",
    "tb_class_doors=make_cross(train['doors'], train['class'], x_unique_elem, y_unique_elem)\n",
    "tb_class_doors"
   ]
  },
  {
   "cell_type": "code",
   "execution_count": 181,
   "id": "4ceebe1f",
   "metadata": {},
   "outputs": [
    {
     "data": {
      "text/plain": [
       "<AxesSubplot:xlabel='doors'>"
      ]
     },
     "execution_count": 181,
     "metadata": {},
     "output_type": "execute_result"
    },
    {
     "data": {
      "image/png": "[encoded data removed]",
      "text/plain": [
       "<Figure size 432x288 with 1 Axes>"
      ]
     },
     "metadata": {
      "needs_background": "light"
     },
     "output_type": "display_data"
    }
   ],
   "source": [
    "tb_class_doors.plot.bar()"
   ]
  },
  {
   "cell_type": "code",
   "execution_count": 182,
   "id": "1bc30977",
   "metadata": {},
   "outputs": [
    {
     "name": "stdout",
     "output_type": "stream",
     "text": [
      "カイ二乗値: 4.542617561654593\n",
      "p値: 0.8722205310598203\n",
      "自由度: 9\n"
     ]
    }
   ],
   "source": [
    "# χ二乗検定\n",
    "x2, p, dof, ex = sp.stats.chi2_contingency(tb_class_doors)\n",
    "\n",
    "print(f'カイ二乗値: {x2}')\n",
    "print(f'p値: {p}')\n",
    "print(f'自由度: {dof}')"
   ]
  },
  {
   "cell_type": "code",
   "execution_count": 183,
   "id": "1d20f22d",
   "metadata": {},
   "outputs": [],
   "source": [
    "### ドアの数と評価値に有意差はない"
   ]
  },
  {
   "cell_type": "markdown",
   "id": "711fb265",
   "metadata": {},
   "source": [
    "# 定員（persons）と評価値"
   ]
  },
  {
   "cell_type": "code",
   "execution_count": 184,
   "id": "4aa0e877",
   "metadata": {},
   "outputs": [
    {
     "data": {
      "text/html": [
       "<div>\n",
       "<style scoped>\n",
       "    .dataframe tbody tr th:only-of-type {\n",
       "        vertical-align: middle;\n",
       "    }\n",
       "\n",
       "    .dataframe tbody tr th {\n",
       "        vertical-align: top;\n",
       "    }\n",
       "\n",
       "    .dataframe thead th {\n",
       "        text-align: right;\n",
       "    }\n",
       "</style>\n",
       "<table border=\"1\" class=\"dataframe\">\n",
       "  <thead>\n",
       "    <tr style=\"text-align: right;\">\n",
       "      <th>class</th>\n",
       "      <th>unacc</th>\n",
       "      <th>acc</th>\n",
       "      <th>good</th>\n",
       "      <th>vgood</th>\n",
       "    </tr>\n",
       "    <tr>\n",
       "      <th>persons</th>\n",
       "      <th></th>\n",
       "      <th></th>\n",
       "      <th></th>\n",
       "      <th></th>\n",
       "    </tr>\n",
       "  </thead>\n",
       "  <tbody>\n",
       "    <tr>\n",
       "      <th>2</th>\n",
       "      <td>284</td>\n",
       "      <td>0</td>\n",
       "      <td>0</td>\n",
       "      <td>0</td>\n",
       "    </tr>\n",
       "    <tr>\n",
       "      <th>4</th>\n",
       "      <td>145</td>\n",
       "      <td>104</td>\n",
       "      <td>19</td>\n",
       "      <td>13</td>\n",
       "    </tr>\n",
       "    <tr>\n",
       "      <th>more</th>\n",
       "      <td>162</td>\n",
       "      <td>102</td>\n",
       "      <td>15</td>\n",
       "      <td>20</td>\n",
       "    </tr>\n",
       "  </tbody>\n",
       "</table>\n",
       "</div>"
      ],
      "text/plain": [
       "class    unacc  acc  good  vgood\n",
       "persons                         \n",
       "2          284    0     0      0\n",
       "4          145  104    19     13\n",
       "more       162  102    15     20"
      ]
     },
     "execution_count": 184,
     "metadata": {},
     "output_type": "execute_result"
    }
   ],
   "source": [
    "x_unique_elem=['2','4','more']\n",
    "y_unique_elem=['unacc','acc','good','vgood']\n",
    "\n",
    "tb_class_persons=make_cross(train['persons'], train['class'], x_unique_elem, y_unique_elem)\n",
    "tb_class_persons"
   ]
  },
  {
   "cell_type": "code",
   "execution_count": 185,
   "id": "ea512be8",
   "metadata": {},
   "outputs": [
    {
     "data": {
      "text/plain": [
       "<AxesSubplot:xlabel='persons'>"
      ]
     },
     "execution_count": 185,
     "metadata": {},
     "output_type": "execute_result"
    },
    {
     "data": {
      "image/png": "[encoded data removed]",
      "text/plain": [
       "<Figure size 432x288 with 1 Axes>"
      ]
     },
     "metadata": {
      "needs_background": "light"
     },
     "output_type": "display_data"
    }
   ],
   "source": [
    "tb_class_persons.plot.bar()"
   ]
  },
  {
   "cell_type": "code",
   "execution_count": 186,
   "id": "7872159f",
   "metadata": {},
   "outputs": [
    {
     "name": "stdout",
     "output_type": "stream",
     "text": [
      "カイ二乗値: 198.80968750727712\n",
      "p値: 3.4005353569416905e-40\n",
      "自由度: 6\n"
     ]
    }
   ],
   "source": [
    "# χ二乗検定\n",
    "x2, p, dof, ex = sp.stats.chi2_contingency(tb_class_persons)\n",
    "\n",
    "print(f'カイ二乗値: {x2}')\n",
    "print(f'p値: {p}')\n",
    "print(f'自由度: {dof}')"
   ]
  },
  {
   "cell_type": "markdown",
   "id": "4bafde67",
   "metadata": {},
   "source": [
    "### ドアの数と評価値に有意差はない"
   ]
  },
  {
   "cell_type": "markdown",
   "id": "ad27b053",
   "metadata": {},
   "source": [
    "# トランク（lug_boot）の大きさと評価値"
   ]
  },
  {
   "cell_type": "code",
   "execution_count": 188,
   "id": "07883977",
   "metadata": {},
   "outputs": [
    {
     "data": {
      "text/html": [
       "<div>\n",
       "<style scoped>\n",
       "    .dataframe tbody tr th:only-of-type {\n",
       "        vertical-align: middle;\n",
       "    }\n",
       "\n",
       "    .dataframe tbody tr th {\n",
       "        vertical-align: top;\n",
       "    }\n",
       "\n",
       "    .dataframe thead th {\n",
       "        text-align: right;\n",
       "    }\n",
       "</style>\n",
       "<table border=\"1\" class=\"dataframe\">\n",
       "  <thead>\n",
       "    <tr style=\"text-align: right;\">\n",
       "      <th>class</th>\n",
       "      <th>unacc</th>\n",
       "      <th>acc</th>\n",
       "      <th>good</th>\n",
       "      <th>vgood</th>\n",
       "    </tr>\n",
       "    <tr>\n",
       "      <th>lug_boot</th>\n",
       "      <th></th>\n",
       "      <th></th>\n",
       "      <th></th>\n",
       "      <th></th>\n",
       "    </tr>\n",
       "  </thead>\n",
       "  <tbody>\n",
       "    <tr>\n",
       "      <th>small</th>\n",
       "      <td>217</td>\n",
       "      <td>52</td>\n",
       "      <td>11</td>\n",
       "      <td>0</td>\n",
       "    </tr>\n",
       "    <tr>\n",
       "      <th>med</th>\n",
       "      <td>201</td>\n",
       "      <td>71</td>\n",
       "      <td>14</td>\n",
       "      <td>13</td>\n",
       "    </tr>\n",
       "    <tr>\n",
       "      <th>big</th>\n",
       "      <td>173</td>\n",
       "      <td>83</td>\n",
       "      <td>9</td>\n",
       "      <td>20</td>\n",
       "    </tr>\n",
       "  </tbody>\n",
       "</table>\n",
       "</div>"
      ],
      "text/plain": [
       "class     unacc  acc  good  vgood\n",
       "lug_boot                         \n",
       "small       217   52    11      0\n",
       "med         201   71    14     13\n",
       "big         173   83     9     20"
      ]
     },
     "execution_count": 188,
     "metadata": {},
     "output_type": "execute_result"
    }
   ],
   "source": [
    "x_unique_elem=['small','med','big']\n",
    "y_unique_elem=['unacc','acc','good','vgood']\n",
    "\n",
    "tb_class_lug=make_cross(train['lug_boot'], train['class'], x_unique_elem, y_unique_elem)\n",
    "tb_class_lug"
   ]
  },
  {
   "cell_type": "code",
   "execution_count": 189,
   "id": "c94983ea",
   "metadata": {},
   "outputs": [
    {
     "data": {
      "text/plain": [
       "<AxesSubplot:xlabel='lug_boot'>"
      ]
     },
     "execution_count": 189,
     "metadata": {},
     "output_type": "execute_result"
    },
    {
     "data": {
      "image/png": "[encoded data removed]",
      "text/plain": [
       "<Figure size 432x288 with 1 Axes>"
      ]
     },
     "metadata": {
      "needs_background": "light"
     },
     "output_type": "display_data"
    }
   ],
   "source": [
    "tb_class_lug.plot.bar()"
   ]
  },
  {
   "cell_type": "code",
   "execution_count": 190,
   "id": "0ced568e",
   "metadata": {},
   "outputs": [
    {
     "name": "stdout",
     "output_type": "stream",
     "text": [
      "カイ二乗値: 31.922757711296384\n",
      "p値: 1.6883424349184776e-05\n",
      "自由度: 6\n"
     ]
    }
   ],
   "source": [
    "# χ二乗検定\n",
    "x2, p, dof, ex = sp.stats.chi2_contingency(tb_class_lug)\n",
    "\n",
    "print(f'カイ二乗値: {x2}')\n",
    "print(f'p値: {p}')\n",
    "print(f'自由度: {dof}')"
   ]
  },
  {
   "cell_type": "markdown",
   "id": "f631ddfe",
   "metadata": {},
   "source": [
    "### トランクが大きいほど評価値は高い"
   ]
  },
  {
   "cell_type": "markdown",
   "id": "901e93c2",
   "metadata": {},
   "source": [
    "# 安全性（safety）と評価値"
   ]
  },
  {
   "cell_type": "code",
   "execution_count": 191,
   "id": "6777eea5",
   "metadata": {},
   "outputs": [
    {
     "data": {
      "text/html": [
       "<div>\n",
       "<style scoped>\n",
       "    .dataframe tbody tr th:only-of-type {\n",
       "        vertical-align: middle;\n",
       "    }\n",
       "\n",
       "    .dataframe tbody tr th {\n",
       "        vertical-align: top;\n",
       "    }\n",
       "\n",
       "    .dataframe thead th {\n",
       "        text-align: right;\n",
       "    }\n",
       "</style>\n",
       "<table border=\"1\" class=\"dataframe\">\n",
       "  <thead>\n",
       "    <tr style=\"text-align: right;\">\n",
       "      <th>class</th>\n",
       "      <th>unacc</th>\n",
       "      <th>acc</th>\n",
       "      <th>good</th>\n",
       "      <th>vgood</th>\n",
       "    </tr>\n",
       "    <tr>\n",
       "      <th>safety</th>\n",
       "      <th></th>\n",
       "      <th></th>\n",
       "      <th></th>\n",
       "      <th></th>\n",
       "    </tr>\n",
       "  </thead>\n",
       "  <tbody>\n",
       "    <tr>\n",
       "      <th>low</th>\n",
       "      <td>284</td>\n",
       "      <td>0</td>\n",
       "      <td>0</td>\n",
       "      <td>0</td>\n",
       "    </tr>\n",
       "    <tr>\n",
       "      <th>med</th>\n",
       "      <td>170</td>\n",
       "      <td>101</td>\n",
       "      <td>18</td>\n",
       "      <td>0</td>\n",
       "    </tr>\n",
       "    <tr>\n",
       "      <th>high</th>\n",
       "      <td>137</td>\n",
       "      <td>105</td>\n",
       "      <td>16</td>\n",
       "      <td>33</td>\n",
       "    </tr>\n",
       "  </tbody>\n",
       "</table>\n",
       "</div>"
      ],
      "text/plain": [
       "class   unacc  acc  good  vgood\n",
       "safety                         \n",
       "low       284    0     0      0\n",
       "med       170  101    18      0\n",
       "high      137  105    16     33"
      ]
     },
     "execution_count": 191,
     "metadata": {},
     "output_type": "execute_result"
    }
   ],
   "source": [
    "x_unique_elem=['low','med','high']\n",
    "y_unique_elem=['unacc','acc','good','vgood']\n",
    "\n",
    "tb_class_safety=make_cross(train['safety'], train['class'], x_unique_elem, y_unique_elem)\n",
    "tb_class_safety"
   ]
  },
  {
   "cell_type": "code",
   "execution_count": 192,
   "id": "1b46343a",
   "metadata": {},
   "outputs": [
    {
     "data": {
      "text/plain": [
       "<AxesSubplot:xlabel='safety'>"
      ]
     },
     "execution_count": 192,
     "metadata": {},
     "output_type": "execute_result"
    },
    {
     "data": {
      "image/png": "[encoded data removed]",
      "text/plain": [
       "<Figure size 432x288 with 1 Axes>"
      ]
     },
     "metadata": {
      "needs_background": "light"
     },
     "output_type": "display_data"
    }
   ],
   "source": [
    "tb_class_safety.plot.bar()"
   ]
  },
  {
   "cell_type": "code",
   "execution_count": 193,
   "id": "ffa24f97",
   "metadata": {},
   "outputs": [
    {
     "name": "stdout",
     "output_type": "stream",
     "text": [
      "カイ二乗値: 247.4439001379002\n",
      "p値: 1.4425255105596875e-50\n",
      "自由度: 6\n"
     ]
    }
   ],
   "source": [
    "# χ二乗検定\n",
    "x2, p, dof, ex = sp.stats.chi2_contingency(tb_class_safety)\n",
    "\n",
    "print(f'カイ二乗値: {x2}')\n",
    "print(f'p値: {p}')\n",
    "print(f'自由度: {dof}')"
   ]
  },
  {
   "cell_type": "markdown",
   "id": "7eaf7e2d",
   "metadata": {},
   "source": [
    "### 安全性が高いものほど評価値は高い"
   ]
  }
 ],
 "metadata": {
  "kernelspec": {
   "display_name": "Python 3 (ipykernel)",
   "language": "python",
   "name": "python3"
  },
  "language_info": {
   "codemirror_mode": {
    "name": "ipython",
    "version": 3
   },
   "file_extension": ".py",
   "mimetype": "text/x-python",
   "name": "python",
   "nbconvert_exporter": "python",
   "pygments_lexer": "ipython3",
   "version": "3.9.7"
  }
 },
 "nbformat": 4,
 "nbformat_minor": 5
}
